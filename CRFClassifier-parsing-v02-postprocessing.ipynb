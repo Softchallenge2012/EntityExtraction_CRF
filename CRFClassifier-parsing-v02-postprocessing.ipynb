{
 "cells": [
  {
   "cell_type": "code",
   "execution_count": 1,
   "id": "8e969108-d8e3-4989-b8c0-520c2a293937",
   "metadata": {},
   "outputs": [
    {
     "name": "stderr",
     "output_type": "stream",
     "text": [
      "/Users/lucy/opt/anaconda3/lib/python3.8/site-packages/scipy/__init__.py:138: UserWarning: A NumPy version >=1.16.5 and <1.23.0 is required for this version of SciPy (detected version 1.23.0)\n",
      "  warnings.warn(f\"A NumPy version >={np_minversion} and <{np_maxversion} is required for this version of \"\n"
     ]
    }
   ],
   "source": [
    "from itertools import chain\n",
    "\n",
    "import nltk\n",
    "import sklearn\n",
    "import scipy.stats\n",
    "from sklearn.metrics import make_scorer\n",
    "from sklearn.model_selection import cross_val_score\n",
    "from sklearn.model_selection import RandomizedSearchCV\n",
    "\n",
    "import sklearn_crfsuite\n",
    "from sklearn_crfsuite import scorers\n",
    "from sklearn_crfsuite import metrics\n",
    "import pickle\n",
    "\n",
    "import pandas as pd\n",
    "import numpy as np\n",
    "import re\n",
    "import os\n",
    "import eli5"
   ]
  },
  {
   "cell_type": "code",
   "execution_count": null,
   "id": "7ea219ca-aa74-48db-bc2e-bc8625a01c2f",
   "metadata": {},
   "outputs": [],
   "source": []
  },
  {
   "cell_type": "code",
   "execution_count": null,
   "id": "414177ac-9ec8-46a3-b7d1-94d9b6fcbd1a",
   "metadata": {},
   "outputs": [],
   "source": []
  },
  {
   "cell_type": "code",
   "execution_count": 7,
   "id": "a2a2fa2a",
   "metadata": {},
   "outputs": [],
   "source": [
    "def postprocessing(s):\n",
    "    s[0] = re.split(r'[\\([s]*[A-Z0-9\\s]+[\\s]*\\)]|[\\s]+', str(s[0]).upper())\n",
    "    s[1] = re.sub(r'[\\[|\\]]','',s[1])\n",
    "    s[2] = re.sub(r'[\\[|\\]]','',s[2])\n",
    "    # parentheses, special symbols, ignore words\n",
    "    labs = []\n",
    "    for term in s[0]:\n",
    "        found = False\n",
    "        for k, tag in zip(str(s[1]).split(','),str(s[2]).split(',')):\n",
    "            if re.sub(r'[^A-Z0-9\\.]','',term) == re.sub(r'[^A-Z0-9\\.]','',k):\n",
    "                labs.append(term+'|'+tag)\n",
    "                found = True\n",
    "                break\n",
    "        if not found:\n",
    "            tag = ''\n",
    "            labs.append(term+'|'+tag)\n",
    "            \n",
    "    # append tags to unlabeled terms.\n",
    "\n",
    "    #VALUE: check special symbols\n",
    "    i = 0\n",
    "    while(i < len(labs) and (labs[i].split('|')[1]=='' or labs[i].split('|')[1]=='O')):\n",
    "        if re.search(r'[\\#\\$\\%\\=\\>\\<]',labs[i].split('|')[0]):\n",
    "            labs[i] = labs[i].split('|')[0] + '|' + 'VALUE'\n",
    "        i = i + 1\n",
    "        if  i < len(labs) and labs[i].split('|')[1]!='' and labs[i].split('|')[1]!='O':\n",
    "            break  \n",
    "    \n",
    "    #LAB NAMES: check unlabeled terms\n",
    "    i = 0\n",
    "    while(i < len(labs) and (labs[i].split('|')[1]=='' or labs[i].split('|')[1]=='O')):\n",
    "        labs[i] = labs[i].split('|')[0] + '|' + 'O'\n",
    "        i = i + 1\n",
    "        if  i < len(labs) and labs[i].split('|')[1]!='' and labs[i].split('|')[1]!='O':\n",
    "            break\n",
    "\n",
    "    #LAB NAMES: check unlabeled terms\n",
    "    while( i < len(labs) and labs[i].split('|')[1]!='VALUE'):\n",
    "        i = i+1\n",
    "        \n",
    "    while(i < len(labs) and (labs[i].split('|')[1]=='VALUE' or labs[i].split('|')[1]=='')):\n",
    "        labs[i] = labs[i].split('|')[0] + '|' + 'VALUE'\n",
    "        i = i + 1\n",
    "        if  i < len(labs) and labs[i].split('|')[1]!='VALUE' and labs[i].split('|')[1]!='':\n",
    "            break\n",
    "\n",
    "    #REF: check parentheses\n",
    "    for i in range(len(labs)):\n",
    "        term = labs[i]\n",
    "        if term.split('|')[1] == '' and re.search(r'[\\(|\\)]',term.split('|')[0]):\n",
    "            labs[i] = term.split('|')[0] + '|REF' \n",
    "            \n",
    "    #SCAN TAGS\n",
    "    p_tag = 'O'\n",
    "    for i in range(1,len(labs),1):\n",
    "        term = labs[i]\n",
    "        c_tag = term.split('|')[1]\n",
    "        if c_tag!='' and p_tag != c_tag:\n",
    "            p_tag = c_tag\n",
    "        else:\n",
    "            labs[i] = term.split('|')[0] +'|'+ p_tag\n",
    "            \n",
    "   \n",
    "        \n",
    "    return ','.join(labs)"
   ]
  },
  {
   "cell_type": "code",
   "execution_count": 6,
   "id": "c5dd0d92",
   "metadata": {},
   "outputs": [
    {
     "name": "stdout",
     "output_type": "stream",
     "text": [
      "CPU times: user 2.45 s, sys: 37.3 ms, total: 2.49 s\n",
      "Wall time: 2.6 s\n"
     ]
    }
   ],
   "source": [
    "%%time\n",
    "df_test_data = pd.read_csv('data/train/train_round123_v31_structured_v14_label_test_tagged.csv')\n",
    "df_test_data['parsed'] = df_test_data[['lab_result_1','lab_result_0','true_label']].apply(postprocessing,axis=1)\n",
    "df_test_data.to_csv('data/test/train_round123_v31_structured_v14_postprocessing.csv',index=False)"
   ]
  },
  {
   "cell_type": "code",
   "execution_count": null,
   "id": "62c9d8a3",
   "metadata": {},
   "outputs": [],
   "source": []
  },
  {
   "cell_type": "code",
   "execution_count": null,
   "id": "a780d2f5",
   "metadata": {},
   "outputs": [],
   "source": []
  },
  {
   "cell_type": "code",
   "execution_count": null,
   "id": "b1a08d01",
   "metadata": {},
   "outputs": [],
   "source": []
  },
  {
   "cell_type": "code",
   "execution_count": null,
   "id": "33fb86e4",
   "metadata": {},
   "outputs": [],
   "source": []
  },
  {
   "cell_type": "code",
   "execution_count": null,
   "id": "f4190c3d",
   "metadata": {},
   "outputs": [],
   "source": []
  },
  {
   "cell_type": "code",
   "execution_count": null,
   "id": "4bed6347",
   "metadata": {},
   "outputs": [],
   "source": []
  },
  {
   "cell_type": "code",
   "execution_count": null,
   "id": "40107cd3",
   "metadata": {},
   "outputs": [],
   "source": []
  }
 ],
 "metadata": {
  "jupytext": {
   "text_representation": {
    "extension": ".py",
    "format_name": "percent",
    "format_version": "1.3",
    "jupytext_version": "1.11.4"
   }
  },
  "kernelspec": {
   "display_name": "Python 3",
   "language": "python",
   "name": "python3"
  },
  "language_info": {
   "codemirror_mode": {
    "name": "ipython",
    "version": 3
   },
   "file_extension": ".py",
   "mimetype": "text/x-python",
   "name": "python",
   "nbconvert_exporter": "python",
   "pygments_lexer": "ipython3",
   "version": "3.8.8"
  }
 },
 "nbformat": 4,
 "nbformat_minor": 5
}
