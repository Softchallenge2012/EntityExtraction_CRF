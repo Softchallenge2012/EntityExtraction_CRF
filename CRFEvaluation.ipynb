{
 "cells": [
  {
   "cell_type": "code",
   "execution_count": null,
   "id": "803b403f-3677-4694-b068-acf00246d32a",
   "metadata": {},
   "outputs": [],
   "source": [
    "## By Lucy Lu\n",
    "## 11/08/2022"
   ]
  },
  {
   "cell_type": "code",
   "execution_count": 18,
   "id": "ef82f659-1996-4548-bb6d-098013f209fd",
   "metadata": {},
   "outputs": [],
   "source": [
    "import pandas as pd\n",
    "import os\n",
    "import re"
   ]
  },
  {
   "cell_type": "code",
   "execution_count": 28,
   "id": "33e0abec-2901-44cb-b67d-d91d6bb298ff",
   "metadata": {},
   "outputs": [
    {
     "data": {
      "text/html": [
       "<div>\n",
       "<style scoped>\n",
       "    .dataframe tbody tr th:only-of-type {\n",
       "        vertical-align: middle;\n",
       "    }\n",
       "\n",
       "    .dataframe tbody tr th {\n",
       "        vertical-align: top;\n",
       "    }\n",
       "\n",
       "    .dataframe thead th {\n",
       "        text-align: right;\n",
       "    }\n",
       "</style>\n",
       "<table border=\"1\" class=\"dataframe\">\n",
       "  <thead>\n",
       "    <tr style=\"text-align: right;\">\n",
       "      <th></th>\n",
       "      <th>Unnamed: 0</th>\n",
       "      <th>lab_result_0</th>\n",
       "      <th>CLASS</th>\n",
       "      <th>lab_result</th>\n",
       "      <th>LAB_TEXT</th>\n",
       "      <th>LAB_PREDICT</th>\n",
       "    </tr>\n",
       "  </thead>\n",
       "  <tbody>\n",
       "    <tr>\n",
       "      <th>0</th>\n",
       "      <td>0.0</td>\n",
       "      <td>Patient: EVANS, DALE JR DUANE     MRN: 00127683</td>\n",
       "      <td></td>\n",
       "      <td>['Patient : EVANS , DALE JR DUANE MRN : 001276...</td>\n",
       "      <td>Patient : EVANS , DALE JR DUANE MRN : 00127683</td>\n",
       "      <td></td>\n",
       "    </tr>\n",
       "    <tr>\n",
       "      <th>1</th>\n",
       "      <td>1.0</td>\n",
       "      <td>ED Clinical Summary     nan</td>\n",
       "      <td></td>\n",
       "      <td>['ED Clinical Summary nan', '']</td>\n",
       "      <td>ED Clinical Summary nan</td>\n",
       "      <td></td>\n",
       "    </tr>\n",
       "    <tr>\n",
       "      <th>2</th>\n",
       "      <td>2.0</td>\n",
       "      <td>Hutchinson Regional Medical Center Emergency D...</td>\n",
       "      <td></td>\n",
       "      <td>['Hutchinson Regional Medical Center Emergency...</td>\n",
       "      <td>Hutchinson Regional Medical Center Emergency D...</td>\n",
       "      <td></td>\n",
       "    </tr>\n",
       "    <tr>\n",
       "      <th>3</th>\n",
       "      <td>3.0</td>\n",
       "      <td>1701 E 23rd Ave, Hutchinson, KS 67502     nan</td>\n",
       "      <td></td>\n",
       "      <td>['1701 E 23rd Ave , Hutchinson , KS 67502 nan'...</td>\n",
       "      <td>1701 E 23rd Ave , Hutchinson , KS 67502 nan</td>\n",
       "      <td></td>\n",
       "    </tr>\n",
       "    <tr>\n",
       "      <th>4</th>\n",
       "      <td>4.0</td>\n",
       "      <td>(620) 665-2000     nan</td>\n",
       "      <td></td>\n",
       "      <td>['( 620 ) 665-2000 nan', '']</td>\n",
       "      <td>( 620 ) 665-2000 nan</td>\n",
       "      <td></td>\n",
       "    </tr>\n",
       "  </tbody>\n",
       "</table>\n",
       "</div>"
      ],
      "text/plain": [
       "  Unnamed: 0                                       lab_result_0 CLASS  \\\n",
       "0        0.0    Patient: EVANS, DALE JR DUANE     MRN: 00127683         \n",
       "1        1.0                        ED Clinical Summary     nan         \n",
       "2        2.0  Hutchinson Regional Medical Center Emergency D...         \n",
       "3        3.0      1701 E 23rd Ave, Hutchinson, KS 67502     nan         \n",
       "4        4.0                             (620) 665-2000     nan         \n",
       "\n",
       "                                          lab_result  \\\n",
       "0  ['Patient : EVANS , DALE JR DUANE MRN : 001276...   \n",
       "1                    ['ED Clinical Summary nan', '']   \n",
       "2  ['Hutchinson Regional Medical Center Emergency...   \n",
       "3  ['1701 E 23rd Ave , Hutchinson , KS 67502 nan'...   \n",
       "4                       ['( 620 ) 665-2000 nan', '']   \n",
       "\n",
       "                                            LAB_TEXT LAB_PREDICT  \n",
       "0     Patient : EVANS , DALE JR DUANE MRN : 00127683              \n",
       "1                            ED Clinical Summary nan              \n",
       "2  Hutchinson Regional Medical Center Emergency D...              \n",
       "3        1701 E 23rd Ave , Hutchinson , KS 67502 nan              \n",
       "4                               ( 620 ) 665-2000 nan              "
      ]
     },
     "execution_count": 28,
     "metadata": {},
     "output_type": "execute_result"
    }
   ],
   "source": [
    "df_data = pd.read_csv('data/test-10-18-2022-5.csv',low_memory=False)\n",
    "df_data = df_data.fillna(value='')\n",
    "df_data.head()"
   ]
  },
  {
   "cell_type": "code",
   "execution_count": 20,
   "id": "486ba517-986d-4680-bf77-2c3e4efd6f96",
   "metadata": {},
   "outputs": [
    {
     "data": {
      "text/plain": [
       "((7462, 6), (5536, 6))"
      ]
     },
     "execution_count": 20,
     "metadata": {},
     "output_type": "execute_result"
    }
   ],
   "source": [
    "df_data[df_data['CLASS']==''].shape, df_data[df_data['CLASS']!=''].shape"
   ]
  },
  {
   "cell_type": "code",
   "execution_count": 31,
   "id": "479e99a2-398e-40eb-b66d-d01b2e753413",
   "metadata": {},
   "outputs": [
    {
     "name": "stdout",
     "output_type": "stream",
     "text": [
      "(12798, 7) (200, 7)\n",
      "  Unnamed: 0                                       lab_result_0 CLASS  \\\n",
      "0        0.0    Patient: EVANS, DALE JR DUANE     MRN: 00127683         \n",
      "1        1.0                        ED Clinical Summary     nan         \n",
      "2        2.0  Hutchinson Regional Medical Center Emergency D...         \n",
      "3        3.0      1701 E 23rd Ave, Hutchinson, KS 67502     nan         \n",
      "4        4.0                             (620) 665-2000     nan         \n",
      "\n",
      "                                          lab_result  \\\n",
      "0  ['Patient : EVANS , DALE JR DUANE MRN : 001276...   \n",
      "1                    ['ED Clinical Summary nan', '']   \n",
      "2  ['Hutchinson Regional Medical Center Emergency...   \n",
      "3  ['1701 E 23rd Ave , Hutchinson , KS 67502 nan'...   \n",
      "4                       ['( 620 ) 665-2000 nan', '']   \n",
      "\n",
      "                                            LAB_TEXT LAB_PREDICT  check  \n",
      "0     Patient : EVANS , DALE JR DUANE MRN : 00127683               True  \n",
      "1                            ED Clinical Summary nan               True  \n",
      "2  Hutchinson Regional Medical Center Emergency D...               True  \n",
      "3        1701 E 23rd Ave , Hutchinson , KS 67502 nan               True  \n",
      "4                               ( 620 ) 665-2000 nan               True  \n"
     ]
    }
   ],
   "source": [
    "df_data['CLASS'] = df_data[['lab_result_0','CLASS']].apply(lambda s: '' if re.sub(r'[^\\w]+|\\s+','',re.sub(r'\\d{1,2}\\/\\d{1,2}\\/\\d{1,2}','',re.sub(r'\\d{1,2}:\\d{1,2}:\\d{1,2}','',s[0])))=='' else s[1], axis=1)\n",
    "\n",
    "df_data['check'] = df_data[['CLASS','LAB_PREDICT']].apply(lambda s:True if (s[0]!='' and s[1]!='') or (s[0]==s[1]=='') else False,axis=1)\n",
    "print(df_data[df_data['check']].shape, df_data[df_data['check']==False].shape)\n",
    "print(df_data.head())"
   ]
  },
  {
   "cell_type": "code",
   "execution_count": 12,
   "id": "d326471b-febb-439f-8a79-d0a34be9bc7f",
   "metadata": {},
   "outputs": [
    {
     "name": "stderr",
     "output_type": "stream",
     "text": [
      "/tmp/ipykernel_151/2884667226.py:1: UserWarning: Boolean Series key will be reindexed to match DataFrame index.\n",
      "  df_data[df_data['check']==False][df_data['CLASS']==''].to_csv('data/test-10-18-2022-5-nontest.csv',index=False)\n",
      "/tmp/ipykernel_151/2884667226.py:2: UserWarning: Boolean Series key will be reindexed to match DataFrame index.\n",
      "  df_data[df_data['check']==False][df_data['CLASS']=='LAB'].to_csv('data/test-10-18-2022-5-test.csv',index=False)\n"
     ]
    }
   ],
   "source": [
    "df_data[df_data['check']==False][df_data['CLASS']==''].to_csv('data/test-10-18-2022-5-nontest.csv',index=False)\n",
    "df_data[df_data['check']==False][df_data['CLASS']=='LAB'].to_csv('data/test-10-18-2022-5-test.csv',index=False)"
   ]
  },
  {
   "cell_type": "code",
   "execution_count": 32,
   "id": "10abd4a6-5e18-4fc7-874d-cead223d629c",
   "metadata": {},
   "outputs": [],
   "source": [
    "df_data.to_csv('data/test-10-18-2022-5-validation.csv',index=False)"
   ]
  },
  {
   "cell_type": "code",
   "execution_count": 27,
   "id": "a2d79cee-7342-45c6-9ee0-1ef2626c4b0d",
   "metadata": {},
   "outputs": [
    {
     "data": {
      "text/plain": [
       "'Patient EVANS DALE JR DUANE     MRN 00127683'"
      ]
     },
     "execution_count": 27,
     "metadata": {},
     "output_type": "execute_result"
    }
   ],
   "source": [
    "s = 'Patient: EVANS, DALE JR DUANE     MRN: 00127683'\n",
    "\n",
    "re.sub(r'[^\\w\\s]+','',re.sub(r'\\d{1,2}\\/\\d{1,2}\\/\\d{1,2}','',re.sub(r'\\d{1,2}:\\d{1,2}:\\d{1,2}','',s)))"
   ]
  },
  {
   "cell_type": "code",
   "execution_count": null,
   "id": "d33255fc-4d1d-459b-975b-451867e00556",
   "metadata": {},
   "outputs": [],
   "source": []
  }
 ],
 "metadata": {
  "jupytext": {
   "text_representation": {
    "extension": ".py",
    "format_name": "percent",
    "format_version": "1.3",
    "jupytext_version": "1.11.4"
   }
  },
  "kernelspec": {
   "display_name": "Python 3 (ipykernel)",
   "language": "python",
   "name": "python3"
  },
  "language_info": {
   "codemirror_mode": {
    "name": "ipython",
    "version": 3
   },
   "file_extension": ".py",
   "mimetype": "text/x-python",
   "name": "python",
   "nbconvert_exporter": "python",
   "pygments_lexer": "ipython3",
   "version": "3.9.6"
  }
 },
 "nbformat": 4,
 "nbformat_minor": 5
}
