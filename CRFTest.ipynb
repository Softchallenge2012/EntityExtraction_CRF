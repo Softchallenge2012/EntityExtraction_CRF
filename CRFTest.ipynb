{
 "cells": [
  {
   "cell_type": "code",
   "execution_count": 1,
   "id": "a52ec829-9d6d-43ed-bfa1-02133416ed97",
   "metadata": {},
   "outputs": [],
   "source": [
    "from itertools import chain\n",
    "\n",
    "import nltk\n",
    "import sklearn\n",
    "import scipy.stats\n",
    "from sklearn.metrics import make_scorer\n",
    "from sklearn.model_selection import cross_val_score\n",
    "from sklearn.model_selection import RandomizedSearchCV\n",
    "import sklearn_crfsuite\n",
    "from sklearn_crfsuite import scorers\n",
    "from sklearn_crfsuite import metrics\n",
    "import pickle\n",
    "\n",
    "import pandas as pd\n",
    "import numpy as np\n",
    "import re\n",
    "import os"
   ]
  },
  {
   "cell_type": "code",
   "execution_count": 2,
   "id": "88f0b74d-58d4-4a97-b1ce-754242fa0fa1",
   "metadata": {},
   "outputs": [
    {
     "name": "stderr",
     "output_type": "stream",
     "text": [
      "[nltk_data] Downloading package punkt to /home/jovyan/nltk_data...\n",
      "[nltk_data]   Package punkt is already up-to-date!\n",
      "[nltk_data] Downloading package averaged_perceptron_tagger to\n",
      "[nltk_data]     /home/jovyan/nltk_data...\n",
      "[nltk_data]   Package averaged_perceptron_tagger is already up-to-\n",
      "[nltk_data]       date!\n"
     ]
    },
    {
     "data": {
      "text/plain": [
       "True"
      ]
     },
     "execution_count": 2,
     "metadata": {},
     "output_type": "execute_result"
    }
   ],
   "source": [
    "nltk.download('punkt')\n",
    "nltk.download('averaged_perceptron_tagger')"
   ]
  },
  {
   "cell_type": "code",
   "execution_count": 8,
   "id": "9c780426-9d2c-4d60-be5c-66bb2f96e689",
   "metadata": {},
   "outputs": [
    {
     "name": "stdout",
     "output_type": "stream",
     "text": [
      "/home/jovyan/work/NER-Test\n"
     ]
    }
   ],
   "source": [
    "! pwd"
   ]
  },
  {
   "cell_type": "code",
   "execution_count": 3,
   "id": "377e86bd-3ba1-49c3-9495-b85750a038ea",
   "metadata": {},
   "outputs": [],
   "source": [
    "lab_names = pd.read_csv('/home/jovyan/work/NER-Test/data/labtest_dictionary_v01.csv')\n",
    "\n",
    "UNITS = pd.read_csv('/home/jovyan/work/NER-Test/data/labtest_units_v01.csv')\n",
    "UNITS = UNITS['units'].tolist()\n",
    "UNITS.extend(['%','#','(Auto)','(Manual)'])\n",
    "\n",
    "def extract_labs(t):\n",
    "    if len(str(t).strip())<1:\n",
    "        return ['','']\n",
    "    \n",
    "    t = re.sub(r'\\\"','',str(t).strip())\n",
    "    wordlist = nltk.pos_tag(nltk.word_tokenize(str(t)))\n",
    "    tagged_list = []\n",
    "    for atagged in wordlist:\n",
    "        tagged_list.append([0,atagged[0],atagged[1]])\n",
    "    tagged_df = pd.DataFrame(tagged_list)\n",
    "    if tagged_df.shape[0]==0:\n",
    "        return ['','']\n",
    "    tagged_df = tagged_df.rename(columns={0:'Sentence #',1:'Word',2:'POS'})\n",
    "    \n",
    "    #print(tagged_df.head())\n",
    "    func = lambda s: [(w, p) for w, p in zip(s[\"Word\"].values.tolist(), s[\"POS\"].values.tolist())]\n",
    "    grouped = tagged_df.groupby(\"Sentence #\").apply(func)\n",
    "    sentences = [s for s in grouped]\n",
    "    test_sents = sentences\n",
    "    \n",
    "    X_test = [sent2features(s) for s in test_sents]\n",
    "    y_pred = crf_model.predict(X_test)\n",
    "    prediction = []\n",
    "    for sent, label in zip(test_sents,y_pred):\n",
    "        asent = []\n",
    "        atruth = []\n",
    "        apred = []\n",
    "        for s, l in zip(sent, label):\n",
    "            asent.append(s[0])\n",
    "\n",
    "            if l == 'LAB':\n",
    "                apred.append(s[0])\n",
    "        # Original text, and extracted text\n",
    "        prediction.append([' '.join(asent), ' '.join(apred)])\n",
    "    sent, lab = prediction[0]    \n",
    "    return [sent, lab]\n",
    "\n",
    "class SentenceGetter(object):\n",
    "    \n",
    "    def __init__(self, data):\n",
    "        self.n_sent = 1\n",
    "        self.data = data\n",
    "        self.empty = False\n",
    "        agg_func = lambda s: [(w, p, t) for w, p, t in zip(s[\"Word\"].values.tolist(),\n",
    "                                                           s[\"POS\"].values.tolist(),\n",
    "                                                           s[\"Tag\"].values.tolist())]\n",
    "        self.grouped = self.data.groupby(\"Sentence #\").apply(agg_func)\n",
    "        self.sentences = [s for s in self.grouped]\n",
    "    \n",
    "    def get_next(self):\n",
    "        try:\n",
    "            s = self.grouped[\"Sentence: {}\".format(self.n_sent)]\n",
    "            self.n_sent += 1\n",
    "            return s\n",
    "        except:\n",
    "            return None\n",
    "\n",
    "\n",
    "def word2features(sent, i):\n",
    "    word = str(sent[i][0])\n",
    "    postag = str(sent[i][1])\n",
    "\n",
    "    isTestName = True if len([token for w in lab_names['test'].tolist() for token in str(w).split(' ') if token.find(word)>-1])>0 else False\n",
    "    isUnit = True if word in UNITS else False\n",
    "    isDecimal = True if re.findall(r'(\\.)', word) and word.isdigit() else False\n",
    "    isDigit = True if word.isdigit() else False\n",
    "    isRange = True if re.match(r'\\(\\d*.?\\d+-\\d*.?\\d+\\)', word) else False\n",
    "    \n",
    "    features = {\n",
    "        'word.isTestName()': word if isTestName else '',\n",
    "        'word.isUnit()': word if isUnit else '',\n",
    "        #'word.isDecimal()': word if isDecimal else '',\n",
    "        'word.isDigit()': word if isDigit else '',\n",
    "        'word.isRange()': word if isRange else '',\n",
    "        'postag': postag,\n",
    "        'postag[:2]': postag[:2],\n",
    "    }\n",
    "    try:\n",
    "        if i > 0:\n",
    "            word1 = sent[i - 1][0]\n",
    "            postag1 = sent[i - 1][1]\n",
    "\n",
    "\n",
    "            isTestName1 = True if len([token for w in lab_names['test'].tolist() for token in str(w).split(' ') if token.find(word1)>-1])>0 else False\n",
    "            isUnit1 = True if word1 in UNITS else False\n",
    "            isDecimal1 = True if re.findall(r'(\\.)', word1) and word1.isdigit() else False\n",
    "            isDigit1 = True if word1.isdigit() else False\n",
    "            isRange1 = True if re.match(r'\\(\\d*.?\\d+-\\d*.?\\d+\\)', word1) else False\n",
    "\n",
    "            features.update({\n",
    "                '-1word.isTestName()': word1 if isTestName1 else '',\n",
    "                '-1word.isUnit()': word1 if isUnit1 else '',\n",
    "                #'-1word.isDecimal()': word1 if isDecimal1 else '',\n",
    "                '-1word.isDigit()': word1 if isDigit1 else '',\n",
    "                '-1word.isRange()': word1 if isRange1 else '',\n",
    "                '-1postag': postag1,\n",
    "                '-1postag[:2]': postag1[:2],\n",
    "            })\n",
    "        else:\n",
    "            #features['BOS'] = True\n",
    "            features.update({\n",
    "                'BOS': word\n",
    "            })\n",
    "\n",
    "        if i < len(sent) - 1:\n",
    "            word1 = sent[i + 1][0]\n",
    "            postag1 = sent[i + 1][1]\n",
    "\n",
    "\n",
    "            isTestName1 = True if len([token for w in lab_names['test'].tolist() for token in str(w).split(' ') if token.find(word1)>-1])>0 else False\n",
    "            isUnit1 = True if word1 in UNITS else False\n",
    "            isDecimal1 = True if re.findall(r'(\\.)', word1) and word1.isdigit() else False\n",
    "            isDigit1 = True if word1.isdigit() else False\n",
    "            isRange1 = True if re.match(r'\\(\\d*.?\\d+-\\d*.?\\d+\\)', word1) else False\n",
    "\n",
    "            features.update({\n",
    "                '+1word.isTestName()': word1 if isTestName1 else '',\n",
    "                '+1word.isUnit()': word1 if isUnit1 else '',\n",
    "                #'+1word.isDecimal()': word1 if isDecimal1 else '',\n",
    "                '+1word.isDigit()': word1 if isDigit1 else '',\n",
    "                '+1word.isRange()': word1 if isRange1 else '',\n",
    "                '+1postag': postag1,\n",
    "                '+1postag[:2]': postag1[:2],\n",
    "            })\n",
    "        else:\n",
    "            #features['EOS'] = True        \n",
    "            features.update({\n",
    "                'EOS': word\n",
    "            })\n",
    "    except:\n",
    "        print(sent,word)\n",
    "\n",
    "    return features\n",
    "\n",
    "def sent2features(sent):\n",
    "    return [word2features(sent, i) for i in range(len(sent))]\n",
    "\n",
    "\n",
    "def sent2labels(sent):\n",
    "    return [label for token, postag, label in sent]\n",
    "\n",
    "\n",
    "def sent2tokens(sent):\n",
    "    return [token for token, postag, label in sent]\n",
    "\n"
   ]
  },
  {
   "cell_type": "markdown",
   "id": "8b414cae-0b81-4451-b29e-5d889f759c2d",
   "metadata": {},
   "source": [
    "# Simple Test"
   ]
  },
  {
   "cell_type": "code",
   "execution_count": 7,
   "id": "03151151-b344-41cd-a93c-d25305494f0f",
   "metadata": {},
   "outputs": [
    {
     "name": "stdout",
     "output_type": "stream",
     "text": [
      "input:WBC 7.7 10E3/uL ( 4.0-11.0 ), output:WBC 7.7 10E3/uL ( 4.0-11.0 )\n"
     ]
    }
   ],
   "source": [
    "crf_model = pickle.load(open('/home/jovyan/work/NER-Test/models/crf_model_lab_v12.pkl','rb'))\n",
    "# lab test: WBC 7.7 10E3/uL (4.0-11.0)\n",
    "sent, pred = extract_labs('WBC 7.7 10E3/uL (4.0-11.0)')\n",
    "print(f'input:{sent}, output:{pred}')"
   ]
  },
  {
   "cell_type": "markdown",
   "id": "1fa7ac73-2eba-4386-aa5c-aa15b7a05eb3",
   "metadata": {},
   "source": [
    "# Complete Test"
   ]
  },
  {
   "cell_type": "code",
   "execution_count": 4,
   "id": "c4b14689-5e8e-4b8e-91ae-b164d9e7b100",
   "metadata": {},
   "outputs": [],
   "source": [
    "crf_model = pickle.load(open('/home/jovyan/work/NER-Test/models/crf_model_lab_v12.pkl','rb'))"
   ]
  },
  {
   "cell_type": "code",
   "execution_count": 13,
   "id": "029bcb6c-3613-4025-b513-13263f6a4b14",
   "metadata": {},
   "outputs": [],
   "source": []
  },
  {
   "cell_type": "code",
   "execution_count": 8,
   "id": "c46e4f90-7a20-48e7-9e54-4272e3f9b505",
   "metadata": {},
   "outputs": [
    {
     "data": {
      "text/html": [
       "<div>\n",
       "<style scoped>\n",
       "    .dataframe tbody tr th:only-of-type {\n",
       "        vertical-align: middle;\n",
       "    }\n",
       "\n",
       "    .dataframe tbody tr th {\n",
       "        vertical-align: top;\n",
       "    }\n",
       "\n",
       "    .dataframe thead th {\n",
       "        text-align: right;\n",
       "    }\n",
       "</style>\n",
       "<table border=\"1\" class=\"dataframe\">\n",
       "  <thead>\n",
       "    <tr style=\"text-align: right;\">\n",
       "      <th></th>\n",
       "      <th>lab_result_0</th>\n",
       "      <th>CLASS</th>\n",
       "    </tr>\n",
       "  </thead>\n",
       "  <tbody>\n",
       "    <tr>\n",
       "      <th>0</th>\n",
       "      <td>Atchison Hospital  Raven Hill ve Atchison, KS</td>\n",
       "      <td>O</td>\n",
       "    </tr>\n",
       "    <tr>\n",
       "      <th>1</th>\n",
       "      <td>Emergency Department Note Signed</td>\n",
       "      <td>O</td>\n",
       "    </tr>\n",
       "    <tr>\n",
       "      <th>2</th>\n",
       "      <td>DOB: //                                       ...</td>\n",
       "      <td>O</td>\n",
       "    </tr>\n",
       "    <tr>\n",
       "      <th>3</th>\n",
       "      <td>Age/Sex:  / M                                 ...</td>\n",
       "      <td>O</td>\n",
       "    </tr>\n",
       "    <tr>\n",
       "      <th>4</th>\n",
       "      <td>Loc: ED</td>\n",
       "      <td>O</td>\n",
       "    </tr>\n",
       "  </tbody>\n",
       "</table>\n",
       "</div>"
      ],
      "text/plain": [
       "                                        lab_result_0 CLASS\n",
       "0     Atchison Hospital  Raven Hill ve Atchison, KS      O\n",
       "1                   Emergency Department Note Signed     O\n",
       "2  DOB: //                                       ...     O\n",
       "3  Age/Sex:  / M                                 ...     O\n",
       "4                                            Loc: ED     O"
      ]
     },
     "execution_count": 8,
     "metadata": {},
     "output_type": "execute_result"
    }
   ],
   "source": [
    "data = pd.read_csv('/home/jovyan/work/NER-Test/data/train/train_test_samples.csv')\n",
    "data.head()"
   ]
  },
  {
   "cell_type": "code",
   "execution_count": 9,
   "id": "6c7374f0-d579-42bc-8ff0-165297e366a6",
   "metadata": {
    "lines_to_next_cell": 2
   },
   "outputs": [
    {
     "data": {
      "text/html": [
       "<div>\n",
       "<style scoped>\n",
       "    .dataframe tbody tr th:only-of-type {\n",
       "        vertical-align: middle;\n",
       "    }\n",
       "\n",
       "    .dataframe tbody tr th {\n",
       "        vertical-align: top;\n",
       "    }\n",
       "\n",
       "    .dataframe thead th {\n",
       "        text-align: right;\n",
       "    }\n",
       "</style>\n",
       "<table border=\"1\" class=\"dataframe\">\n",
       "  <thead>\n",
       "    <tr style=\"text-align: right;\">\n",
       "      <th></th>\n",
       "      <th>lab_result_0</th>\n",
       "      <th>CLASS</th>\n",
       "      <th>lab_result</th>\n",
       "      <th>LAB_TEXT</th>\n",
       "      <th>LAB_TEST</th>\n",
       "    </tr>\n",
       "  </thead>\n",
       "  <tbody>\n",
       "    <tr>\n",
       "      <th>0</th>\n",
       "      <td>Atchison Hospital  Raven Hill ve Atchison, KS</td>\n",
       "      <td>O</td>\n",
       "      <td>[Atchison Hospital Raven Hill ve Atchison , KS, ]</td>\n",
       "      <td>Atchison Hospital Raven Hill ve Atchison , KS</td>\n",
       "      <td></td>\n",
       "    </tr>\n",
       "    <tr>\n",
       "      <th>1</th>\n",
       "      <td>Emergency Department Note Signed</td>\n",
       "      <td>O</td>\n",
       "      <td>[Emergency Department Note Signed, ]</td>\n",
       "      <td>Emergency Department Note Signed</td>\n",
       "      <td></td>\n",
       "    </tr>\n",
       "    <tr>\n",
       "      <th>2</th>\n",
       "      <td>DOB: //                                       ...</td>\n",
       "      <td>O</td>\n",
       "      <td>[DOB : // Acct : AH, ]</td>\n",
       "      <td>DOB : // Acct : AH</td>\n",
       "      <td></td>\n",
       "    </tr>\n",
       "    <tr>\n",
       "      <th>3</th>\n",
       "      <td>Age/Sex:  / M                                 ...</td>\n",
       "      <td>O</td>\n",
       "      <td>[Age/Sex : / M ADM Date : //, ]</td>\n",
       "      <td>Age/Sex : / M ADM Date : //</td>\n",
       "      <td></td>\n",
       "    </tr>\n",
       "    <tr>\n",
       "      <th>4</th>\n",
       "      <td>Loc: ED</td>\n",
       "      <td>O</td>\n",
       "      <td>[Loc : ED, ]</td>\n",
       "      <td>Loc : ED</td>\n",
       "      <td></td>\n",
       "    </tr>\n",
       "  </tbody>\n",
       "</table>\n",
       "</div>"
      ],
      "text/plain": [
       "                                        lab_result_0 CLASS  \\\n",
       "0     Atchison Hospital  Raven Hill ve Atchison, KS      O   \n",
       "1                   Emergency Department Note Signed     O   \n",
       "2  DOB: //                                       ...     O   \n",
       "3  Age/Sex:  / M                                 ...     O   \n",
       "4                                            Loc: ED     O   \n",
       "\n",
       "                                          lab_result  \\\n",
       "0  [Atchison Hospital Raven Hill ve Atchison , KS, ]   \n",
       "1               [Emergency Department Note Signed, ]   \n",
       "2                             [DOB : // Acct : AH, ]   \n",
       "3                    [Age/Sex : / M ADM Date : //, ]   \n",
       "4                                       [Loc : ED, ]   \n",
       "\n",
       "                                        LAB_TEXT LAB_TEST  \n",
       "0  Atchison Hospital Raven Hill ve Atchison , KS           \n",
       "1               Emergency Department Note Signed           \n",
       "2                             DOB : // Acct : AH           \n",
       "3                    Age/Sex : / M ADM Date : //           \n",
       "4                                       Loc : ED           "
      ]
     },
     "execution_count": 9,
     "metadata": {},
     "output_type": "execute_result"
    }
   ],
   "source": [
    "X_test = data.copy()\n",
    "X_test = X_test.fillna(value='')\n",
    "X_test['lab_result'] = X_test['lab_result_0'].apply(extract_labs)\n",
    "X_test['LAB_TEXT'] = X_test['lab_result'].apply(lambda s:s[0])\n",
    "X_test['LAB_TEST'] = X_test['lab_result'].apply(lambda s:s[1])\n",
    "X_test.head()"
   ]
  },
  {
   "cell_type": "code",
   "execution_count": 10,
   "id": "0fcd607d-9964-4d7f-8dee-1a0b85455982",
   "metadata": {},
   "outputs": [
    {
     "name": "stdout",
     "output_type": "stream",
     "text": [
      "(2864, 6) (7, 6)\n",
      "                                        lab_result_0 CLASS  \\\n",
      "0     Atchison Hospital  Raven Hill ve Atchison, KS      O   \n",
      "1                   Emergency Department Note Signed     O   \n",
      "2  DOB: //                                       ...     O   \n",
      "3  Age/Sex:  / M                                 ...     O   \n",
      "4                                            Loc: ED     O   \n",
      "\n",
      "                                          lab_result  \\\n",
      "0  [Atchison Hospital Raven Hill ve Atchison , KS, ]   \n",
      "1               [Emergency Department Note Signed, ]   \n",
      "2                             [DOB : // Acct : AH, ]   \n",
      "3                    [Age/Sex : / M ADM Date : //, ]   \n",
      "4                                       [Loc : ED, ]   \n",
      "\n",
      "                                        LAB_TEXT LAB_TEST  check  \n",
      "0  Atchison Hospital Raven Hill ve Atchison , KS            True  \n",
      "1               Emergency Department Note Signed            True  \n",
      "2                             DOB : // Acct : AH            True  \n",
      "3                    Age/Sex : / M ADM Date : //            True  \n",
      "4                                       Loc : ED            True  \n"
     ]
    }
   ],
   "source": [
    "df_data = X_test.copy()\n",
    "df_data['CLASS'] = df_data[['lab_result_0','CLASS']].apply(lambda s: '' if re.sub(r'[^\\w]+|\\s+','',re.sub(r'\\d{1,2}\\/\\d{1,2}\\/\\d{1,2}','',re.sub(r'\\d{1,2}:\\d{1,2}:\\d{1,2}','',s[0])))=='' else s[1], axis=1)\n",
    "df_data['check'] = df_data[['CLASS','lab_result']].apply(lambda s:True if (s[0]!='' and s[1]!='') or (s[0]==s[1]=='') else False,axis=1)\n",
    "print(df_data[df_data['check']].shape, df_data[df_data['check']==False].shape)\n",
    "print(df_data.head())"
   ]
  },
  {
   "cell_type": "code",
   "execution_count": 11,
   "id": "c7a8441a-bdf4-472b-8094-3c1751fc0b6d",
   "metadata": {},
   "outputs": [],
   "source": [
    "df_data.to_csv('data/test/test-11-28-2022-validation.csv',index=False)"
   ]
  },
  {
   "cell_type": "code",
   "execution_count": null,
   "id": "7b2e15ed-2e38-4937-9468-bbb679ac8514",
   "metadata": {},
   "outputs": [],
   "source": []
  },
  {
   "cell_type": "code",
   "execution_count": null,
   "id": "cd1df294-596f-42f0-b6af-9f498c1410d8",
   "metadata": {},
   "outputs": [],
   "source": []
  },
  {
   "cell_type": "code",
   "execution_count": null,
   "id": "fcd4b27e-e207-4884-b14d-a64cc59b1599",
   "metadata": {},
   "outputs": [],
   "source": []
  },
  {
   "cell_type": "code",
   "execution_count": null,
   "id": "181e7863-f0e2-4b1e-bae7-6804af14afdb",
   "metadata": {},
   "outputs": [],
   "source": []
  },
  {
   "cell_type": "code",
   "execution_count": null,
   "id": "4858d963-10d4-41b0-a4ac-331987ba6bca",
   "metadata": {},
   "outputs": [],
   "source": []
  },
  {
   "cell_type": "code",
   "execution_count": null,
   "id": "1a794d2d-aa6c-41ed-8663-b1a2e044f842",
   "metadata": {},
   "outputs": [],
   "source": []
  }
 ],
 "metadata": {
  "jupytext": {
   "text_representation": {
    "extension": ".py",
    "format_name": "percent",
    "format_version": "1.3",
    "jupytext_version": "1.11.4"
   }
  },
  "kernelspec": {
   "display_name": "Python 3 (ipykernel)",
   "language": "python",
   "name": "python3"
  },
  "language_info": {
   "codemirror_mode": {
    "name": "ipython",
    "version": 3
   },
   "file_extension": ".py",
   "mimetype": "text/x-python",
   "name": "python",
   "nbconvert_exporter": "python",
   "pygments_lexer": "ipython3",
   "version": "3.9.6"
  }
 },
 "nbformat": 4,
 "nbformat_minor": 5
}
